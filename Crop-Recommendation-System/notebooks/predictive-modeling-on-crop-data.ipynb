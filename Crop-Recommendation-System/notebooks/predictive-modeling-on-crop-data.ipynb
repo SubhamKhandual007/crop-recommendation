{
 "cells": [
  {
   "cell_type": "markdown",
   "id": "951b39f8",
   "metadata": {
    "papermill": {
     "duration": 0.0293,
     "end_time": "2021-08-28T07:17:15.068558",
     "exception": false,
     "start_time": "2021-08-28T07:17:15.039258",
     "status": "completed"
    },
    "tags": []
   },
   "source": [
    "# Crop Recommendation based on different Features"
   ]
  },
  {
   "cell_type": "markdown",
   "id": "bcee2eb3",
   "metadata": {
    "papermill": {
     "duration": 0.027782,
     "end_time": "2021-08-28T07:17:15.125347",
     "exception": false,
     "start_time": "2021-08-28T07:17:15.097565",
     "status": "completed"
    },
    "tags": []
   },
   "source": [
    "# Setup (importing required libraries)"
   ]
  },
  {
   "cell_type": "code",
   "execution_count": 2,
   "id": "41060d9f",
   "metadata": {
    "execution": {
     "iopub.execute_input": "2021-08-28T07:17:15.196456Z",
     "iopub.status.busy": "2021-08-28T07:17:15.194674Z",
     "iopub.status.idle": "2021-08-28T07:17:16.737650Z",
     "shell.execute_reply": "2021-08-28T07:17:16.736800Z",
     "shell.execute_reply.started": "2021-08-28T07:13:25.626434Z"
    },
    "papermill": {
     "duration": 1.583942,
     "end_time": "2021-08-28T07:17:16.737824",
     "exception": false,
     "start_time": "2021-08-28T07:17:15.153882",
     "status": "completed"
    },
    "tags": []
   },
   "outputs": [],
   "source": [
    "#Importing Liabraries\n",
    "\n",
    "import numpy as np\n",
    "import pandas as pd\n",
    "\n",
    "#For data visualization\n",
    "import matplotlib.pyplot as plt\n",
    "import seaborn as sns\n",
    "\n",
    "#For interactivity\n",
    "from ipywidgets import interact\n",
    "\n",
    "#For warnings\n",
    "import warnings\n",
    "warnings.filterwarnings('ignore')\n",
    "\n",
    "#For Clustering Analysis\n",
    "from sklearn.cluster import KMeans\n",
    "from sklearn.model_selection import train_test_split\n",
    "from sklearn.linear_model import LogisticRegression\n",
    "from sklearn.metrics import classification_report\n",
    "from sklearn.metrics import confusion_matrix"
   ]
  },
  {
   "cell_type": "code",
   "execution_count": 3,
   "id": "b5897386",
   "metadata": {
    "execution": {
     "iopub.execute_input": "2021-08-28T07:17:16.799614Z",
     "iopub.status.busy": "2021-08-28T07:17:16.798892Z",
     "iopub.status.idle": "2021-08-28T07:17:16.849761Z",
     "shell.execute_reply": "2021-08-28T07:17:16.849204Z",
     "shell.execute_reply.started": "2021-08-28T07:13:25.647636Z"
    },
    "papermill": {
     "duration": 0.083908,
     "end_time": "2021-08-28T07:17:16.849900",
     "exception": false,
     "start_time": "2021-08-28T07:17:16.765992",
     "status": "completed"
    },
    "tags": []
   },
   "outputs": [
    {
     "data": {
      "text/html": [
       "<div>\n",
       "<style scoped>\n",
       "    .dataframe tbody tr th:only-of-type {\n",
       "        vertical-align: middle;\n",
       "    }\n",
       "\n",
       "    .dataframe tbody tr th {\n",
       "        vertical-align: top;\n",
       "    }\n",
       "\n",
       "    .dataframe thead th {\n",
       "        text-align: right;\n",
       "    }\n",
       "</style>\n",
       "<table border=\"1\" class=\"dataframe\">\n",
       "  <thead>\n",
       "    <tr style=\"text-align: right;\">\n",
       "      <th></th>\n",
       "      <th>Nitrogen</th>\n",
       "      <th>Phosphorus</th>\n",
       "      <th>Potassium</th>\n",
       "      <th>Temperature</th>\n",
       "      <th>Humidity</th>\n",
       "      <th>pH_Value</th>\n",
       "      <th>Rainfall</th>\n",
       "      <th>Crop</th>\n",
       "    </tr>\n",
       "  </thead>\n",
       "  <tbody>\n",
       "    <tr>\n",
       "      <th>0</th>\n",
       "      <td>90</td>\n",
       "      <td>42</td>\n",
       "      <td>43</td>\n",
       "      <td>20.879744</td>\n",
       "      <td>82.002744</td>\n",
       "      <td>6.502985</td>\n",
       "      <td>202.935536</td>\n",
       "      <td>Rice</td>\n",
       "    </tr>\n",
       "    <tr>\n",
       "      <th>1</th>\n",
       "      <td>85</td>\n",
       "      <td>58</td>\n",
       "      <td>41</td>\n",
       "      <td>21.770462</td>\n",
       "      <td>80.319644</td>\n",
       "      <td>7.038096</td>\n",
       "      <td>226.655537</td>\n",
       "      <td>Rice</td>\n",
       "    </tr>\n",
       "    <tr>\n",
       "      <th>2</th>\n",
       "      <td>60</td>\n",
       "      <td>55</td>\n",
       "      <td>44</td>\n",
       "      <td>23.004459</td>\n",
       "      <td>82.320763</td>\n",
       "      <td>7.840207</td>\n",
       "      <td>263.964248</td>\n",
       "      <td>Rice</td>\n",
       "    </tr>\n",
       "    <tr>\n",
       "      <th>3</th>\n",
       "      <td>74</td>\n",
       "      <td>35</td>\n",
       "      <td>40</td>\n",
       "      <td>26.491096</td>\n",
       "      <td>80.158363</td>\n",
       "      <td>6.980401</td>\n",
       "      <td>242.864034</td>\n",
       "      <td>Rice</td>\n",
       "    </tr>\n",
       "    <tr>\n",
       "      <th>4</th>\n",
       "      <td>78</td>\n",
       "      <td>42</td>\n",
       "      <td>42</td>\n",
       "      <td>20.130175</td>\n",
       "      <td>81.604873</td>\n",
       "      <td>7.628473</td>\n",
       "      <td>262.717340</td>\n",
       "      <td>Rice</td>\n",
       "    </tr>\n",
       "    <tr>\n",
       "      <th>...</th>\n",
       "      <td>...</td>\n",
       "      <td>...</td>\n",
       "      <td>...</td>\n",
       "      <td>...</td>\n",
       "      <td>...</td>\n",
       "      <td>...</td>\n",
       "      <td>...</td>\n",
       "      <td>...</td>\n",
       "    </tr>\n",
       "    <tr>\n",
       "      <th>2195</th>\n",
       "      <td>107</td>\n",
       "      <td>34</td>\n",
       "      <td>32</td>\n",
       "      <td>26.774637</td>\n",
       "      <td>66.413269</td>\n",
       "      <td>6.780064</td>\n",
       "      <td>177.774507</td>\n",
       "      <td>Coffee</td>\n",
       "    </tr>\n",
       "    <tr>\n",
       "      <th>2196</th>\n",
       "      <td>99</td>\n",
       "      <td>15</td>\n",
       "      <td>27</td>\n",
       "      <td>27.417112</td>\n",
       "      <td>56.636362</td>\n",
       "      <td>6.086922</td>\n",
       "      <td>127.924610</td>\n",
       "      <td>Coffee</td>\n",
       "    </tr>\n",
       "    <tr>\n",
       "      <th>2197</th>\n",
       "      <td>118</td>\n",
       "      <td>33</td>\n",
       "      <td>30</td>\n",
       "      <td>24.131797</td>\n",
       "      <td>67.225123</td>\n",
       "      <td>6.362608</td>\n",
       "      <td>173.322839</td>\n",
       "      <td>Coffee</td>\n",
       "    </tr>\n",
       "    <tr>\n",
       "      <th>2198</th>\n",
       "      <td>117</td>\n",
       "      <td>32</td>\n",
       "      <td>34</td>\n",
       "      <td>26.272418</td>\n",
       "      <td>52.127394</td>\n",
       "      <td>6.758793</td>\n",
       "      <td>127.175293</td>\n",
       "      <td>Coffee</td>\n",
       "    </tr>\n",
       "    <tr>\n",
       "      <th>2199</th>\n",
       "      <td>104</td>\n",
       "      <td>18</td>\n",
       "      <td>30</td>\n",
       "      <td>23.603016</td>\n",
       "      <td>60.396475</td>\n",
       "      <td>6.779833</td>\n",
       "      <td>140.937041</td>\n",
       "      <td>Coffee</td>\n",
       "    </tr>\n",
       "  </tbody>\n",
       "</table>\n",
       "<p>2200 rows × 8 columns</p>\n",
       "</div>"
      ],
      "text/plain": [
       "      Nitrogen  Phosphorus  Potassium  Temperature   Humidity  pH_Value  \\\n",
       "0           90          42         43    20.879744  82.002744  6.502985   \n",
       "1           85          58         41    21.770462  80.319644  7.038096   \n",
       "2           60          55         44    23.004459  82.320763  7.840207   \n",
       "3           74          35         40    26.491096  80.158363  6.980401   \n",
       "4           78          42         42    20.130175  81.604873  7.628473   \n",
       "...        ...         ...        ...          ...        ...       ...   \n",
       "2195       107          34         32    26.774637  66.413269  6.780064   \n",
       "2196        99          15         27    27.417112  56.636362  6.086922   \n",
       "2197       118          33         30    24.131797  67.225123  6.362608   \n",
       "2198       117          32         34    26.272418  52.127394  6.758793   \n",
       "2199       104          18         30    23.603016  60.396475  6.779833   \n",
       "\n",
       "        Rainfall    Crop  \n",
       "0     202.935536    Rice  \n",
       "1     226.655537    Rice  \n",
       "2     263.964248    Rice  \n",
       "3     242.864034    Rice  \n",
       "4     262.717340    Rice  \n",
       "...          ...     ...  \n",
       "2195  177.774507  Coffee  \n",
       "2196  127.924610  Coffee  \n",
       "2197  173.322839  Coffee  \n",
       "2198  127.175293  Coffee  \n",
       "2199  140.937041  Coffee  \n",
       "\n",
       "[2200 rows x 8 columns]"
      ]
     },
     "execution_count": 3,
     "metadata": {},
     "output_type": "execute_result"
    }
   ],
   "source": [
    "#Loading Dataset\n",
    "data = pd.read_csv('D:\\harry script\\Crop-Recommendation-System\\dataset\\Crop_Recommendation.csv')\n",
    "data"
   ]
  },
  {
   "cell_type": "markdown",
   "id": "3775646b",
   "metadata": {
    "papermill": {
     "duration": 0.028488,
     "end_time": "2021-08-28T07:17:16.907888",
     "exception": false,
     "start_time": "2021-08-28T07:17:16.879400",
     "status": "completed"
    },
    "tags": []
   },
   "source": [
    "# 1.Exploratory Data Analysis"
   ]
  },
  {
   "cell_type": "code",
   "execution_count": 4,
   "id": "9e7ede8a",
   "metadata": {
    "execution": {
     "iopub.execute_input": "2021-08-28T07:17:16.971856Z",
     "iopub.status.busy": "2021-08-28T07:17:16.971037Z",
     "iopub.status.idle": "2021-08-28T07:17:16.974542Z",
     "shell.execute_reply": "2021-08-28T07:17:16.975066Z",
     "shell.execute_reply.started": "2021-08-28T07:13:25.685929Z"
    },
    "papermill": {
     "duration": 0.038633,
     "end_time": "2021-08-28T07:17:16.975228",
     "exception": false,
     "start_time": "2021-08-28T07:17:16.936595",
     "status": "completed"
    },
    "tags": []
   },
   "outputs": [
    {
     "name": "stdout",
     "output_type": "stream",
     "text": [
      "Shape of the dataset : (2200, 8)\n"
     ]
    }
   ],
   "source": [
    "#Shape of dataset\n",
    "print(\"Shape of the dataset :\",data.shape)"
   ]
  },
  {
   "cell_type": "code",
   "execution_count": 5,
   "id": "19177980",
   "metadata": {
    "execution": {
     "iopub.execute_input": "2021-08-28T07:17:17.043364Z",
     "iopub.status.busy": "2021-08-28T07:17:17.042379Z",
     "iopub.status.idle": "2021-08-28T07:17:17.046068Z",
     "shell.execute_reply": "2021-08-28T07:17:17.046542Z",
     "shell.execute_reply.started": "2021-08-28T07:13:25.699407Z"
    },
    "papermill": {
     "duration": 0.041788,
     "end_time": "2021-08-28T07:17:17.046730",
     "exception": false,
     "start_time": "2021-08-28T07:17:17.004942",
     "status": "completed"
    },
    "tags": []
   },
   "outputs": [
    {
     "data": {
      "text/plain": [
       "Nitrogen       0\n",
       "Phosphorus     0\n",
       "Potassium      0\n",
       "Temperature    0\n",
       "Humidity       0\n",
       "pH_Value       0\n",
       "Rainfall       0\n",
       "Crop           0\n",
       "dtype: int64"
      ]
     },
     "execution_count": 5,
     "metadata": {},
     "output_type": "execute_result"
    }
   ],
   "source": [
    "#Checking missing values\n",
    "data.isnull().sum()"
   ]
  },
  {
   "cell_type": "code",
   "execution_count": 6,
   "id": "9c4b40f2",
   "metadata": {
    "execution": {
     "iopub.execute_input": "2021-08-28T07:17:17.115730Z",
     "iopub.status.busy": "2021-08-28T07:17:17.114730Z",
     "iopub.status.idle": "2021-08-28T07:17:17.121309Z",
     "shell.execute_reply": "2021-08-28T07:17:17.121808Z",
     "shell.execute_reply.started": "2021-08-28T07:13:25.784004Z"
    },
    "papermill": {
     "duration": 0.045439,
     "end_time": "2021-08-28T07:17:17.121986",
     "exception": false,
     "start_time": "2021-08-28T07:17:17.076547",
     "status": "completed"
    },
    "tags": []
   },
   "outputs": [
    {
     "data": {
      "text/plain": [
       "Crop\n",
       "Rice           100\n",
       "Maize          100\n",
       "Jute           100\n",
       "Cotton         100\n",
       "Coconut        100\n",
       "Papaya         100\n",
       "Orange         100\n",
       "Apple          100\n",
       "Muskmelon      100\n",
       "Watermelon     100\n",
       "Grapes         100\n",
       "Mango          100\n",
       "Banana         100\n",
       "Pomegranate    100\n",
       "Lentil         100\n",
       "Blackgram      100\n",
       "MungBean       100\n",
       "MothBeans      100\n",
       "PigeonPeas     100\n",
       "KidneyBeans    100\n",
       "ChickPea       100\n",
       "Coffee         100\n",
       "Name: count, dtype: int64"
      ]
     },
     "execution_count": 6,
     "metadata": {},
     "output_type": "execute_result"
    }
   ],
   "source": [
    "#Checking Crops present in Dataset\n",
    "data['Crop'].value_counts()"
   ]
  },
  {
   "cell_type": "code",
   "execution_count": 7,
   "id": "55cbd99f",
   "metadata": {
    "execution": {
     "iopub.execute_input": "2021-08-28T07:17:17.185514Z",
     "iopub.status.busy": "2021-08-28T07:17:17.184527Z",
     "iopub.status.idle": "2021-08-28T07:17:17.195462Z",
     "shell.execute_reply": "2021-08-28T07:17:17.194819Z",
     "shell.execute_reply.started": "2021-08-28T07:13:25.922399Z"
    },
    "papermill": {
     "duration": 0.043683,
     "end_time": "2021-08-28T07:17:17.195602",
     "exception": false,
     "start_time": "2021-08-28T07:17:17.151919",
     "status": "completed"
    },
    "tags": []
   },
   "outputs": [
    {
     "name": "stdout",
     "output_type": "stream",
     "text": [
      "Average Ratio of Nitrogen in the soil :  50.55\n",
      "Average Ratio of Phosphorous in the soil :  53.36\n",
      "Average Ratio of Potassium in the soil :  48.15\n",
      "Average Temperature in Celsius :  25.62\n",
      "Average Relative Humidity in % is :  71.48\n",
      "Average pH value of the soil :  6.47\n",
      "Average Rain fall in mm :  103.46\n"
     ]
    }
   ],
   "source": [
    "#Checking the Statistics for all the crops\n",
    "print(\"Average Ratio of Nitrogen in the soil : {0: .2f}\".format(data['Nitrogen'].mean()))\n",
    "print(\"Average Ratio of Phosphorous in the soil : {0: .2f}\".format(data['Phosphorus'].mean()))\n",
    "print(\"Average Ratio of Potassium in the soil : {0: .2f}\".format(data['Potassium'].mean()))\n",
    "print(\"Average Temperature in Celsius : {0: .2f}\".format(data['Temperature'].mean()))\n",
    "print(\"Average Relative Humidity in % is : {0: .2f}\".format(data['Humidity'].mean()))\n",
    "print(\"Average pH value of the soil : {0: .2f}\".format(data['pH_Value'].mean()))\n",
    "print(\"Average Rain fall in mm : {0: .2f}\".format(data['Rainfall'].mean()))"
   ]
  },
  {
   "cell_type": "markdown",
   "id": "01442aa3",
   "metadata": {
    "papermill": {
     "duration": 0.029853,
     "end_time": "2021-08-28T07:17:17.255872",
     "exception": false,
     "start_time": "2021-08-28T07:17:17.226019",
     "status": "completed"
    },
    "tags": []
   },
   "source": [
    "#### Above shows that nitrogen,Phosphorous and potassium should be around 50%\n",
    "#### Temperature should be around 25°C and Humidity around 70%\n",
    "#### Rain fall should be around 100mm and PH should be around 7"
   ]
  },
  {
   "cell_type": "code",
   "execution_count": 8,
   "id": "f5c679aa",
   "metadata": {
    "execution": {
     "iopub.execute_input": "2021-08-28T07:17:17.349547Z",
     "iopub.status.busy": "2021-08-28T07:17:17.324777Z",
     "iopub.status.idle": "2021-08-28T07:17:17.377020Z",
     "shell.execute_reply": "2021-08-28T07:17:17.376513Z",
     "shell.execute_reply.started": "2021-08-28T07:13:26.065037Z"
    },
    "papermill": {
     "duration": 0.090929,
     "end_time": "2021-08-28T07:17:17.377161",
     "exception": false,
     "start_time": "2021-08-28T07:17:17.286232",
     "status": "completed"
    },
    "tags": []
   },
   "outputs": [
    {
     "data": {
      "application/vnd.jupyter.widget-view+json": {
       "model_id": "354fabf9331f460986b7b75e4c194c17",
       "version_major": 2,
       "version_minor": 0
      },
      "text/plain": [
       "interactive(children=(Dropdown(description='crops', options=('Rice', 'Maize', 'Jute', 'Cotton', 'Coconut', 'Pa…"
      ]
     },
     "metadata": {},
     "output_type": "display_data"
    }
   ],
   "source": [
    "#Checking Statistics for each Crop\n",
    "\n",
    "@interact\n",
    "def summary(crops = list(data['Crop'].value_counts().index)):\n",
    "    x = data[data['Crop'] == crops]\n",
    "    print(\"-------------------------------------------------\")\n",
    "    print(\"Statistics for Nitrogen :\")\n",
    "    print(\"Minimum Nitrogen Required :\", x['Nitrogen'].min())\n",
    "    print(\"Average Nitrogen Required :\", x['Nitrogen'].mean())\n",
    "    print(\"Maximum Nitrogen Required :\", x['Nitrogen'].max())\n",
    "    print(\"-------------------------------------------------\")\n",
    "    print(\"Statistics for Phosphorous :\")\n",
    "    print(\"Minimum Phosphorous Required :\", x['Phosphorus'].min())\n",
    "    print(\"Average Phosphorous Required :\", x['Phosphorus'].mean())\n",
    "    print(\"Maximum Phosphorous Required :\", x['Phosphorus'].max())\n",
    "    print(\"-------------------------------------------------\")\n",
    "    print(\"Statistics for Potassium :\")\n",
    "    print(\"Minimum Potassium Required :\", x['Potassium'].min())\n",
    "    print(\"Average Potassium Required :\", x['Potassium'].mean())\n",
    "    print(\"Maximum Potassium Required :\", x['Potassium'].max())\n",
    "    print(\"-------------------------------------------------\")\n",
    "    print(\"Statistics for Temperature :\")\n",
    "    print(\"Minimum Temperature Required : {0: .2f}\".format(x['Temperature'].min()))\n",
    "    print(\"Average Temperature Required : {0: .2f}\".format(x['Temperature'].mean()))\n",
    "    print(\"Maximum Temperature Required : {0: .2f}\".format(x['Temperature'].max()))\n",
    "    print(\"-------------------------------------------------\")\n",
    "    print(\"Statistics for Humidity :\")\n",
    "    print(\"Minimum Humidity Required : {0: .2f}\".format(x['Humidity'].min()))\n",
    "    print(\"Average Humidity Required : {0: .2f}\".format(x['Humidity'].mean()))\n",
    "    print(\"Maximum Humidity Required : {0: .2f}\".format(x['Humidity'].max()))\n",
    "    print(\"-------------------------------------------------\")\n",
    "    print(\"Statistics for PH :\")\n",
    "    print(\"Minimum PH Required : {0: .2f}\".format(x['pH_Value'].min()))\n",
    "    print(\"Average PH Required : {0: .2f}\".format(x['pH_Value'].mean()))\n",
    "    print(\"Maximum PH Required : {0: .2f}\".format(x['pH_Value'].max()))\n",
    "    print(\"-------------------------------------------------\")\n",
    "    print(\"Statistics for Rainfall :\")\n",
    "    print(\"Minimum Rainfall Required : {0: .2f}\".format(x['Rainfall'].min()))\n",
    "    print(\"Average Rainfall Required : {0: .2f}\".format(x['Rainfall'].mean()))\n",
    "    print(\"Maximum Rainfall Required : {0: .2f}\".format(x['Rainfall'].max()))\n",
    "    print(\"-------------------------------------------------\")\n",
    "    "
   ]
  },
  {
   "cell_type": "markdown",
   "id": "bb0f7156",
   "metadata": {
    "papermill": {
     "duration": 0.032643,
     "end_time": "2021-08-28T07:17:17.440989",
     "exception": false,
     "start_time": "2021-08-28T07:17:17.408346",
     "status": "completed"
    },
    "tags": []
   },
   "source": [
    "#### We can find statistics of any other crop by selecting on drop down list"
   ]
  },
  {
   "cell_type": "code",
   "execution_count": 9,
   "id": "e90c67b1",
   "metadata": {
    "execution": {
     "iopub.execute_input": "2021-08-28T07:17:17.542611Z",
     "iopub.status.busy": "2021-08-28T07:17:17.541902Z",
     "iopub.status.idle": "2021-08-28T07:17:17.584568Z",
     "shell.execute_reply": "2021-08-28T07:17:17.582518Z",
     "shell.execute_reply.started": "2021-08-28T07:13:26.134151Z"
    },
    "papermill": {
     "duration": 0.111271,
     "end_time": "2021-08-28T07:17:17.584797",
     "exception": false,
     "start_time": "2021-08-28T07:17:17.473526",
     "status": "completed"
    },
    "tags": []
   },
   "outputs": [
    {
     "data": {
      "application/vnd.jupyter.widget-view+json": {
       "model_id": "1b3b371defbc49098a5fcfa36d5c10fb",
       "version_major": 2,
       "version_minor": 0
      },
      "text/plain": [
       "interactive(children=(Dropdown(description='conditions', options=('Nitrogen', 'Phosphorous', 'Potassium', 'Tem…"
      ]
     },
     "metadata": {},
     "output_type": "display_data"
    }
   ],
   "source": [
    "# Lets compare the average Requirement for eash crops with average conditions\n",
    "\n",
    "@interact\n",
    "def compare(conditions = ['Nitrogen','Phosphorous','Potassium','Temperature','pH_Value','Humidity','Rainfall']):\n",
    "    print(\"Average Value for\",conditions,\"is {0: .2f}\".format(data[conditions].mean()))\n",
    "    print(\"----------------------------------------------------------------\")\n",
    "    print(\"Rice : {0: .2f}\".format(data[(data['Crop'] == 'Rice')][conditions].mean()))\n",
    "    print(\"Black Grams : {0: .2f}\".format(data[(data['Crop'] == 'Blackgram')][conditions].mean()))\n",
    "    print(\"Banana : {0: .2f}\".format(data[(data['Crop'] == 'Banana')][conditions].mean()))\n",
    "    print(\"Jute : {0: .2f}\".format(data[(data['Crop'] == 'Jute')][conditions].mean()))\n",
    "    print(\"Coconut : {0: .2f}\".format(data[(data['Crop'] == 'Coconut')][conditions].mean()))\n",
    "    print(\"Apple : {0: .2f}\".format(data[(data['Crop'] == 'Apple')][conditions].mean()))\n",
    "    print(\"Papaya : {0: .2f}\".format(data[(data['Crop'] == 'Papaya')][conditions].mean()))\n",
    "    print(\"Muskmelon : {0: .2f}\".format(data[(data['Crop'] == 'Muskmelon')][conditions].mean()))\n",
    "    print(\"Grapes : {0: .2f}\".format(data[(data['Crop'] == 'Grapes')][conditions].mean()))\n",
    "    print(\"Watermelon : {0: .2f}\".format(data[(data['Crop'] == 'Watermelon')][conditions].mean()))\n",
    "    print(\"Kedney Beans : {0: .2f}\".format(data[(data['Crop'] == 'KidneyBeans')][conditions].mean()))\n",
    "    print(\"Mung Beans : {0: .2f}\".format(data[(data['Crop'] == 'MungBean')][conditions].mean()))\n",
    "    print(\"Oranges : {0: .2f}\".format(data[(data['Crop'] == 'Orange')][conditions].mean()))\n",
    "    print(\"Chick Peas : {0: .2f}\".format(data[(data['Crop'] == 'ChickPea')][conditions].mean()))\n",
    "    print(\"Lentils : {0: .2f}\".format(data[(data['Crop'] == 'Lentil')][conditions].mean()))\n",
    "    print(\"Cotton : {0: .2f}\".format(data[(data['Crop'] == 'Cotton')][conditions].mean()))\n",
    "    print(\"Maize : {0: .2f}\".format(data[(data['Crop'] == 'Maize')][conditions].mean()))\n",
    "    print(\"Moth Beans : {0: .2f}\".format(data[(data['Crop'] == 'MothBeans')][conditions].mean()))\n",
    "    print(\"Pigeon peas : {0: .2f}\".format(data[(data['Crop'] == 'PigeonPeas')][conditions].mean()))\n",
    "    print(\"Mango : {0: .2f}\".format(data[(data['Crop'] == 'Mango')][conditions].mean()))\n",
    "    print(\"Pomegrante : {0: .2f}\".format(data[(data['Crop'] == 'Pomegranate')][conditions].mean()))\n",
    "    print(\"Coffee : {0: .2f}\".format(data[(data['Crop'] == 'Coffee')][conditions].mean()))\n",
    "    "
   ]
  },
  {
   "cell_type": "markdown",
   "id": "dc92f59d",
   "metadata": {
    "papermill": {
     "duration": 0.031542,
     "end_time": "2021-08-28T07:17:17.648196",
     "exception": false,
     "start_time": "2021-08-28T07:17:17.616654",
     "status": "completed"
    },
    "tags": []
   },
   "source": [
    "### We can find rainfall,temperature,humidity,Nitrogen,Potassium,Phosphorous and ph value of every individual crop by selecting on the drop down menu."
   ]
  },
  {
   "cell_type": "code",
   "execution_count": 10,
   "id": "ee43eee9",
   "metadata": {
    "execution": {
     "iopub.execute_input": "2021-08-28T07:17:17.737418Z",
     "iopub.status.busy": "2021-08-28T07:17:17.721382Z",
     "iopub.status.idle": "2021-08-28T07:17:19.618752Z",
     "shell.execute_reply": "2021-08-28T07:17:19.619271Z",
     "shell.execute_reply.started": "2021-08-28T07:13:26.222404Z"
    },
    "papermill": {
     "duration": 1.939912,
     "end_time": "2021-08-28T07:17:19.619484",
     "exception": false,
     "start_time": "2021-08-28T07:17:17.679572",
     "status": "completed"
    },
    "tags": []
   },
   "outputs": [
    {
     "data": {
      "image/png": "[encoded data removed]",
      "text/plain": [
       "<Figure size 1500x800 with 7 Axes>"
      ]
     },
     "metadata": {},
     "output_type": "display_data"
    }
   ],
   "source": [
    "#Distribution for Agricultural Conditions\n",
    "plt.figure(figsize=(15,8))\n",
    "plt.subplot(2,4,1)\n",
    "sns.distplot(data['Nitrogen'],color = 'blue')\n",
    "plt.xlabel('Ratio of Nitrogen',fontsize = 12)\n",
    "plt.grid()\n",
    "\n",
    "plt.subplot(2,4,2)\n",
    "sns.distplot(data['Phosphorus'],color = 'green')\n",
    "plt.xlabel('Ratio of Phosphorous',fontsize = 12)\n",
    "plt.grid()\n",
    "\n",
    "plt.subplot(2,4,3)\n",
    "sns.distplot(data['Potassium'],color = 'darkblue')\n",
    "plt.xlabel('Ratio of Potassium',fontsize = 12)\n",
    "plt.grid()\n",
    "\n",
    "plt.subplot(2,4,4)\n",
    "sns.distplot(data['Temperature'],color = 'black')\n",
    "plt.xlabel('Temperature',fontsize = 12)\n",
    "plt.grid()\n",
    "\n",
    "plt.subplot(2,4,5)\n",
    "sns.distplot(data['Rainfall'],color = 'grey')\n",
    "plt.xlabel('Rainfall',fontsize = 12)\n",
    "plt.grid()\n",
    "\n",
    "plt.subplot(2,4,6)\n",
    "sns.distplot(data['Humidity'],color = 'lightgreen')\n",
    "plt.xlabel('Humidity',fontsize = 12)\n",
    "plt.grid()\n",
    "\n",
    "plt.subplot(2,4,7)\n",
    "sns.distplot(data['pH_Value'],color = 'darkgreen')\n",
    "plt.xlabel('ph level',fontsize = 12)\n",
    "plt.grid()\n",
    "\n",
    "plt.suptitle('Distribution for Agricultural Conditions', fontsize = 20)\n",
    "plt.show()"
   ]
  },
  {
   "cell_type": "markdown",
   "id": "7c88d857",
   "metadata": {
    "papermill": {
     "duration": 0.033726,
     "end_time": "2021-08-28T07:17:19.687709",
     "exception": false,
     "start_time": "2021-08-28T07:17:19.653983",
     "status": "completed"
    },
    "tags": []
   },
   "source": [
    "### Above Graph shows us many hidden patterns like many crops need Phosphorous and Potassium at very high level.\n",
    "### Need of rain,temperature and ph value vary from crop to crop."
   ]
  },
  {
   "cell_type": "markdown",
   "id": "ccaba85e",
   "metadata": {
    "papermill": {
     "duration": 0.033651,
     "end_time": "2021-08-28T07:17:19.755487",
     "exception": false,
     "start_time": "2021-08-28T07:17:19.721836",
     "status": "completed"
    },
    "tags": []
   },
   "source": [
    "# 2.Hidden Patterns"
   ]
  },
  {
   "cell_type": "code",
   "execution_count": 11,
   "id": "bffa122f",
   "metadata": {
    "execution": {
     "iopub.execute_input": "2021-08-28T07:17:19.852711Z",
     "iopub.status.busy": "2021-08-28T07:17:19.851739Z",
     "iopub.status.idle": "2021-08-28T07:17:19.869230Z",
     "shell.execute_reply": "2021-08-28T07:17:19.867474Z",
     "shell.execute_reply.started": "2021-08-28T07:13:28.237060Z"
    },
    "papermill": {
     "duration": 0.080081,
     "end_time": "2021-08-28T07:17:19.869407",
     "exception": false,
     "start_time": "2021-08-28T07:17:19.789326",
     "status": "completed"
    },
    "tags": []
   },
   "outputs": [
    {
     "data": {
      "application/vnd.jupyter.widget-view+json": {
       "model_id": "98a148a955544af7ac92d34a108651ac",
       "version_major": 2,
       "version_minor": 0
      },
      "text/plain": [
       "interactive(children=(Dropdown(description='conditions', options=('Nitrogen', 'Phosphorus', 'Potassium', 'Temp…"
      ]
     },
     "metadata": {},
     "output_type": "display_data"
    }
   ],
   "source": [
    "# Crops requires more rainfall,temperature,humidity,Nitrogen,Potassium,Phosphorous and ph value VS Crops requires Less \n",
    "@interact\n",
    "def compare(conditions = ['Nitrogen','Phosphorus','Potassium','Temperature','pH_Value','Humidity','Rainfall']):\n",
    "    print(\"Crops which require greater than average\",conditions,'\\n')\n",
    "    print(data[data[conditions] > data[conditions].mean()]['Crop'].unique())\n",
    "    print(\"-------------------------------------------------------\")\n",
    "    print(\"Crops which require less than average\",conditions,'\\n')\n",
    "    print(data[data[conditions] <= data[conditions].mean()]['Crop'].unique())"
   ]
  },
  {
   "cell_type": "code",
   "execution_count": 12,
   "id": "9a9d3974",
   "metadata": {
    "execution": {
     "iopub.execute_input": "2021-08-28T07:17:19.946718Z",
     "iopub.status.busy": "2021-08-28T07:17:19.945122Z",
     "iopub.status.idle": "2021-08-28T07:17:19.951349Z",
     "shell.execute_reply": "2021-08-28T07:17:19.951783Z",
     "shell.execute_reply.started": "2021-08-28T07:13:28.281790Z"
    },
    "papermill": {
     "duration": 0.047557,
     "end_time": "2021-08-28T07:17:19.951951",
     "exception": false,
     "start_time": "2021-08-28T07:17:19.904394",
     "status": "completed"
    },
    "tags": []
   },
   "outputs": [
    {
     "name": "stdout",
     "output_type": "stream",
     "text": [
      "Crops which requires very High rainfall: ['Rice' 'Papaya' 'Coconut']\n",
      "Crops which requires very Low rainfall: ['MothBeans' 'MungBean' 'Lentil' 'Muskmelon']\n"
     ]
    }
   ],
   "source": [
    "# Crops which Require more Rainfall vs Crops which Require Less Rainfall\n",
    "print(\"Crops which requires very High rainfall:\",data[data['Rainfall'] > 200]['Crop'].unique())\n",
    "print(\"Crops which requires very Low rainfall:\",data[data['Rainfall'] < 40]['Crop'].unique())"
   ]
  },
  {
   "cell_type": "code",
   "execution_count": 13,
   "id": "349fc2e4",
   "metadata": {
    "execution": {
     "iopub.execute_input": "2021-08-28T07:17:20.037985Z",
     "iopub.status.busy": "2021-08-28T07:17:20.036185Z",
     "iopub.status.idle": "2021-08-28T07:17:20.048291Z",
     "shell.execute_reply": "2021-08-28T07:17:20.047329Z",
     "shell.execute_reply.started": "2021-08-28T07:13:28.294420Z"
    },
    "papermill": {
     "duration": 0.061892,
     "end_time": "2021-08-28T07:17:20.048500",
     "exception": false,
     "start_time": "2021-08-28T07:17:19.986608",
     "status": "completed"
    },
    "tags": []
   },
   "outputs": [
    {
     "name": "stdout",
     "output_type": "stream",
     "text": [
      "Crops which requires very High ratio of Nitrogen Content in soil : ['Cotton']\n",
      "Crops which requires very High ratio of Phosphorous Content in soil : ['Grapes' 'Apple']\n",
      "Crops which requires very High ratio of Potassium Content in soil : ['Grapes' 'Apple']\n",
      "Crops which requires very High Rainfall : ['Rice' 'Papaya' 'Coconut']\n",
      "Crops which requires very Low Rainfall: ['MothBeans' 'MungBean' 'Lentil' 'Muskmelon']\n",
      "Crops which requires very Low Temperature : ['Grapes']\n",
      "Crops which requires very High Temperature : ['Grapes' 'Papaya']\n",
      "Crops which requires very Low Humidity : ['ChickPea' 'KidneyBeans']\n",
      "Crops which requires very Low pH : ['MothBeans']\n",
      "Crops which requires very High pH : ['ChickPea' 'MothBeans']\n"
     ]
    }
   ],
   "source": [
    "print(\"Crops which requires very High ratio of Nitrogen Content in soil :\",data[data['Nitrogen'] > 120]['Crop'].unique())\n",
    "print(\"Crops which requires very High ratio of Phosphorous Content in soil :\",data[data['Phosphorus'] > 100]['Crop'].unique())\n",
    "print(\"Crops which requires very High ratio of Potassium Content in soil :\",data[data['Potassium'] > 200]['Crop'].unique())\n",
    "print(\"Crops which requires very High Rainfall :\",data[data['Rainfall'] > 200]['Crop'].unique())\n",
    "print(\"Crops which requires very Low Rainfall:\",data[data['Rainfall'] < 40]['Crop'].unique())\n",
    "print(\"Crops which requires very Low Temperature :\",data[data['Temperature'] < 10]['Crop'].unique())\n",
    "print(\"Crops which requires very High Temperature :\",data[data['Temperature'] > 40]['Crop'].unique())\n",
    "print(\"Crops which requires very Low Humidity :\",data[data['Humidity'] < 20]['Crop'].unique())\n",
    "print(\"Crops which requires very Low pH :\",data[data['pH_Value'] < 4]['Crop'].unique())\n",
    "print(\"Crops which requires very High pH :\",data[data['pH_Value'] > 8]['Crop'].unique())"
   ]
  },
  {
   "cell_type": "code",
   "execution_count": 14,
   "id": "feb4c1cd",
   "metadata": {
    "execution": {
     "iopub.execute_input": "2021-08-28T07:17:20.133416Z",
     "iopub.status.busy": "2021-08-28T07:17:20.132328Z",
     "iopub.status.idle": "2021-08-28T07:17:20.137661Z",
     "shell.execute_reply": "2021-08-28T07:17:20.137062Z",
     "shell.execute_reply.started": "2021-08-28T07:13:28.330649Z"
    },
    "papermill": {
     "duration": 0.052261,
     "end_time": "2021-08-28T07:17:20.137811",
     "exception": false,
     "start_time": "2021-08-28T07:17:20.085550",
     "status": "completed"
    },
    "tags": []
   },
   "outputs": [
    {
     "name": "stdout",
     "output_type": "stream",
     "text": [
      "Summer Crops\n",
      "['PigeonPeas' 'MothBeans' 'Blackgram' 'Mango' 'Grapes' 'Orange' 'Papaya']\n",
      "--------------------------------------------------------------------------\n",
      "Winter Crops\n",
      "['Maize' 'PigeonPeas' 'Lentil' 'Pomegranate' 'Grapes' 'Orange']\n",
      "--------------------------------------------------------------------------\n",
      "Rainy Crops\n",
      "['Rice' 'Papaya' 'Coconut']\n"
     ]
    }
   ],
   "source": [
    "# By using dataset, Find the best suitable Crop for Summer Season,Winter Season and Rainy Season\n",
    "print(\"Summer Crops\")\n",
    "print(data[(data['Temperature'] > 30) & (data['Humidity'] > 50)]['Crop'].unique())\n",
    "print(\"--------------------------------------------------------------------------\")\n",
    "print(\"Winter Crops\")\n",
    "print(data[(data['Temperature'] < 20) & (data['Humidity'] > 30)]['Crop'].unique())\n",
    "print(\"--------------------------------------------------------------------------\")\n",
    "print(\"Rainy Crops\")\n",
    "print(data[(data['Rainfall'] > 200) & (data['Humidity'] > 30)]['Crop'].unique())"
   ]
  },
  {
   "cell_type": "markdown",
   "id": "cae8ab0a",
   "metadata": {
    "papermill": {
     "duration": 0.035371,
     "end_time": "2021-08-28T07:17:20.209141",
     "exception": false,
     "start_time": "2021-08-28T07:17:20.173770",
     "status": "completed"
    },
    "tags": []
   },
   "source": [
    "# 3.Clustering Analysis"
   ]
  },
  {
   "cell_type": "code",
   "execution_count": 15,
   "id": "b1742e68",
   "metadata": {
    "execution": {
     "iopub.execute_input": "2021-08-28T07:17:20.287928Z",
     "iopub.status.busy": "2021-08-28T07:17:20.287128Z",
     "iopub.status.idle": "2021-08-28T07:17:20.291797Z",
     "shell.execute_reply": "2021-08-28T07:17:20.290920Z",
     "shell.execute_reply.started": "2021-08-28T07:13:28.347810Z"
    },
    "papermill": {
     "duration": 0.046938,
     "end_time": "2021-08-28T07:17:20.291987",
     "exception": false,
     "start_time": "2021-08-28T07:17:20.245049",
     "status": "completed"
    },
    "tags": []
   },
   "outputs": [
    {
     "name": "stdout",
     "output_type": "stream",
     "text": [
      "(2200, 7)\n"
     ]
    }
   ],
   "source": [
    "#Removing the Labels column \n",
    "x = data.drop(['Crop'], axis=1)\n",
    "\n",
    "#Selecting all values of data\n",
    "x = x.values\n",
    "\n",
    "#Checking the shape\n",
    "print(x.shape)"
   ]
  },
  {
   "cell_type": "code",
   "execution_count": 16,
   "id": "f7d09a37",
   "metadata": {
    "execution": {
     "iopub.execute_input": "2021-08-28T07:17:20.373270Z",
     "iopub.status.busy": "2021-08-28T07:17:20.372257Z",
     "iopub.status.idle": "2021-08-28T07:17:41.757608Z",
     "shell.execute_reply": "2021-08-28T07:17:41.758606Z",
     "shell.execute_reply.started": "2021-08-28T07:13:28.357476Z"
    },
    "papermill": {
     "duration": 21.429835,
     "end_time": "2021-08-28T07:17:41.758811",
     "exception": false,
     "start_time": "2021-08-28T07:17:20.328976",
     "status": "completed"
    },
    "tags": []
   },
   "outputs": [
    {
     "data": {
      "image/png": "[encoded data removed]",
      "text/plain": [
       "<Figure size 1000x400 with 1 Axes>"
      ]
     },
     "metadata": {},
     "output_type": "display_data"
    }
   ],
   "source": [
    "#Determining Optimum number of Clusters within Dataset by using K-means Clustering\n",
    "plt.rcParams['figure.figsize'] = (10,4)\n",
    "\n",
    "wcss = []\n",
    "for i in range(1,11):\n",
    "    km = KMeans(n_clusters = i,init = 'k-means++',max_iter = 300, n_init = 10, random_state = 0)\n",
    "    km.fit(x)\n",
    "    wcss.append(km.inertia_)\n",
    "    \n",
    "#Plotting the Results\n",
    "plt.plot(range(1,11),wcss)\n",
    "plt.title('The Elbow Method',fontsize = 20)\n",
    "plt.xlabel('No. of Cluster')\n",
    "plt.ylabel('wcss')\n",
    "plt.show()"
   ]
  },
  {
   "cell_type": "markdown",
   "id": "18dd661c",
   "metadata": {
    "papermill": {
     "duration": 0.04488,
     "end_time": "2021-08-28T07:17:41.849063",
     "exception": false,
     "start_time": "2021-08-28T07:17:41.804183",
     "status": "completed"
    },
    "tags": []
   },
   "source": [
    "### By using Elbow method,we concluded that dataset consists of four clusters."
   ]
  },
  {
   "cell_type": "code",
   "execution_count": 17,
   "id": "abf21f05",
   "metadata": {
    "execution": {
     "iopub.execute_input": "2021-08-28T07:17:41.952059Z",
     "iopub.status.busy": "2021-08-28T07:17:41.951307Z",
     "iopub.status.idle": "2021-08-28T07:17:43.335035Z",
     "shell.execute_reply": "2021-08-28T07:17:43.335554Z",
     "shell.execute_reply.started": "2021-08-28T07:13:41.933519Z"
    },
    "papermill": {
     "duration": 1.442074,
     "end_time": "2021-08-28T07:17:43.335748",
     "exception": false,
     "start_time": "2021-08-28T07:17:41.893674",
     "status": "completed"
    },
    "tags": []
   },
   "outputs": [
    {
     "name": "stdout",
     "output_type": "stream",
     "text": [
      "Checking results after applying K-means Clustering Analysis \n",
      "\n",
      "Crops in First Cluster: ['Grapes' 'Apple']\n",
      "---------------------------------------------------------------\n",
      "Crops in Second Cluster: ['Maize' 'ChickPea' 'KidneyBeans' 'PigeonPeas' 'MothBeans' 'MungBean'\n",
      " 'Blackgram' 'Lentil' 'Pomegranate' 'Mango' 'Orange' 'Papaya' 'Coconut']\n",
      "---------------------------------------------------------------\n",
      "Crops in Third Cluster: ['Maize' 'Banana' 'Watermelon' 'Muskmelon' 'Papaya' 'Cotton' 'Coffee']\n",
      "---------------------------------------------------------------\n",
      "Crops in Forth Cluster: ['Rice' 'PigeonPeas' 'Papaya' 'Coconut' 'Jute' 'Coffee']\n"
     ]
    }
   ],
   "source": [
    "#Implementing K-means Algorithm to perform Clustering Analysis\n",
    "km = KMeans(n_clusters = 4,init = 'k-means++',max_iter = 300, n_init = 10, random_state = 0)\n",
    "y_means = km.fit_predict(x)\n",
    "\n",
    "#Lets find out results\n",
    "a = data['Crop']\n",
    "y_means = pd.DataFrame(y_means)\n",
    "z = pd.concat([y_means, a],axis = 1)\n",
    "z = z.rename(columns = {0: 'cluster'})\n",
    "\n",
    "#Checking Clusters of Each crop\n",
    "print(\"Checking results after applying K-means Clustering Analysis \\n\")\n",
    "print(\"Crops in First Cluster:\", z[z['cluster'] == 0]['Crop'].unique())\n",
    "print(\"---------------------------------------------------------------\")\n",
    "print(\"Crops in Second Cluster:\", z[z['cluster'] == 1]['Crop'].unique())\n",
    "print(\"---------------------------------------------------------------\")\n",
    "print(\"Crops in Third Cluster:\", z[z['cluster'] == 2]['Crop'].unique())\n",
    "print(\"---------------------------------------------------------------\")\n",
    "print(\"Crops in Forth Cluster:\", z[z['cluster'] == 3]['Crop'].unique())"
   ]
  },
  {
   "cell_type": "markdown",
   "id": "65fe249d",
   "metadata": {
    "papermill": {
     "duration": 0.044626,
     "end_time": "2021-08-28T07:17:43.441766",
     "exception": false,
     "start_time": "2021-08-28T07:17:43.397140",
     "status": "completed"
    },
    "tags": []
   },
   "source": [
    "# 4.Predictive Modelling"
   ]
  },
  {
   "cell_type": "code",
   "execution_count": 18,
   "id": "0654b5ca",
   "metadata": {
    "execution": {
     "iopub.execute_input": "2021-08-28T07:17:43.542018Z",
     "iopub.status.busy": "2021-08-28T07:17:43.540935Z",
     "iopub.status.idle": "2021-08-28T07:17:43.545311Z",
     "shell.execute_reply": "2021-08-28T07:17:43.542661Z",
     "shell.execute_reply.started": "2021-08-28T07:13:43.384575Z"
    },
    "papermill": {
     "duration": 0.058803,
     "end_time": "2021-08-28T07:17:43.545582",
     "exception": false,
     "start_time": "2021-08-28T07:17:43.486779",
     "status": "completed"
    },
    "tags": []
   },
   "outputs": [
    {
     "name": "stdout",
     "output_type": "stream",
     "text": [
      "Shape of x: (2200, 7)\n",
      "Shape of y: (2200,)\n"
     ]
    }
   ],
   "source": [
    "#Splitting dataset for Predictive Modelling\n",
    "y = data['Crop']\n",
    "x = data.drop(['Crop'],axis = 1)\n",
    "\n",
    "print(\"Shape of x:\", x.shape)\n",
    "print(\"Shape of y:\", y.shape)"
   ]
  },
  {
   "cell_type": "code",
   "execution_count": 19,
   "id": "fbc6c98f",
   "metadata": {
    "execution": {
     "iopub.execute_input": "2021-08-28T07:17:43.644458Z",
     "iopub.status.busy": "2021-08-28T07:17:43.643444Z",
     "iopub.status.idle": "2021-08-28T07:17:43.652783Z",
     "shell.execute_reply": "2021-08-28T07:17:43.653965Z",
     "shell.execute_reply.started": "2021-08-28T07:13:43.396814Z"
    },
    "papermill": {
     "duration": 0.061673,
     "end_time": "2021-08-28T07:17:43.654188",
     "exception": false,
     "start_time": "2021-08-28T07:17:43.592515",
     "status": "completed"
    },
    "tags": []
   },
   "outputs": [
    {
     "name": "stdout",
     "output_type": "stream",
     "text": [
      "The shape of x train: (1760, 7)\n",
      "The shape of x test: (440, 7)\n",
      "The shape of y train: (1760,)\n",
      "The shape of y test: (440,)\n"
     ]
    }
   ],
   "source": [
    "#Training and Testing Sets for Validation of Results\n",
    "x_train,x_test,y_train,y_test = train_test_split(x,y,test_size = 0.2,random_state = 0)\n",
    "\n",
    "print(\"The shape of x train:\", x_train.shape)\n",
    "print(\"The shape of x test:\", x_test.shape)\n",
    "print(\"The shape of y train:\", y_train.shape)\n",
    "print(\"The shape of y test:\", y_test.shape)"
   ]
  },
  {
   "cell_type": "code",
   "execution_count": 20,
   "id": "c61438dc",
   "metadata": {
    "execution": {
     "iopub.execute_input": "2021-08-28T07:17:43.758482Z",
     "iopub.status.busy": "2021-08-28T07:17:43.757763Z",
     "iopub.status.idle": "2021-08-28T07:17:43.926460Z",
     "shell.execute_reply": "2021-08-28T07:17:43.927068Z",
     "shell.execute_reply.started": "2021-08-28T07:13:43.414004Z"
    },
    "papermill": {
     "duration": 0.227415,
     "end_time": "2021-08-28T07:17:43.927271",
     "exception": false,
     "start_time": "2021-08-28T07:17:43.699856",
     "status": "completed"
    },
    "tags": []
   },
   "outputs": [],
   "source": [
    "#Creating a Predictive model\n",
    "model = LogisticRegression(solver='liblinear')\n",
    "model.fit(x_train, y_train)\n",
    "y_pred = model.predict(x_test)"
   ]
  },
  {
   "cell_type": "code",
   "execution_count": 21,
   "id": "1b889cd6",
   "metadata": {
    "execution": {
     "iopub.execute_input": "2021-08-28T07:17:44.040167Z",
     "iopub.status.busy": "2021-08-28T07:17:44.039455Z",
     "iopub.status.idle": "2021-08-28T07:17:45.873636Z",
     "shell.execute_reply": "2021-08-28T07:17:45.873074Z",
     "shell.execute_reply.started": "2021-08-28T07:13:43.624257Z"
    },
    "papermill": {
     "duration": 1.899924,
     "end_time": "2021-08-28T07:17:45.873800",
     "exception": false,
     "start_time": "2021-08-28T07:17:43.973876",
     "status": "completed"
    },
    "tags": []
   },
   "outputs": [
    {
     "data": {
      "image/png": "[encoded data removed]",
      "text/plain": [
       "<Figure size 1000x1000 with 2 Axes>"
      ]
     },
     "metadata": {},
     "output_type": "display_data"
    }
   ],
   "source": [
    "#Evaluating Model Performance by using confusion matrix\n",
    "plt.rcParams['figure.figsize'] = [10,10]\n",
    "cm = confusion_matrix(y_test, y_pred)\n",
    "sns.heatmap(cm, annot = True, cmap = 'Wistia')\n",
    "plt.title('Confusion Matrix for Logistic Regression', fontsize=15)\n",
    "plt.show()"
   ]
  },
  {
   "cell_type": "code",
   "execution_count": 22,
   "id": "161110be",
   "metadata": {
    "execution": {
     "iopub.execute_input": "2021-08-28T07:17:45.970521Z",
     "iopub.status.busy": "2021-08-28T07:17:45.969788Z",
     "iopub.status.idle": "2021-08-28T07:17:45.987192Z",
     "shell.execute_reply": "2021-08-28T07:17:45.986572Z",
     "shell.execute_reply.started": "2021-08-28T07:13:45.958864Z"
    },
    "papermill": {
     "duration": 0.073697,
     "end_time": "2021-08-28T07:17:45.987358",
     "exception": false,
     "start_time": "2021-08-28T07:17:45.913661",
     "status": "completed"
    },
    "tags": []
   },
   "outputs": [
    {
     "name": "stdout",
     "output_type": "stream",
     "text": [
      "              precision    recall  f1-score   support\n",
      "\n",
      "       Apple       1.00      1.00      1.00        18\n",
      "      Banana       1.00      0.94      0.97        18\n",
      "   Blackgram       0.88      1.00      0.94        22\n",
      "    ChickPea       1.00      1.00      1.00        23\n",
      "     Coconut       1.00      1.00      1.00        15\n",
      "      Coffee       1.00      1.00      1.00        17\n",
      "      Cotton       0.89      1.00      0.94        16\n",
      "      Grapes       1.00      1.00      1.00        18\n",
      "        Jute       0.86      0.86      0.86        21\n",
      " KidneyBeans       0.95      1.00      0.98        20\n",
      "      Lentil       1.00      0.88      0.94        17\n",
      "       Maize       1.00      0.89      0.94        18\n",
      "       Mango       1.00      1.00      1.00        21\n",
      "   MothBeans       1.00      0.84      0.91        25\n",
      "    MungBean       0.94      1.00      0.97        17\n",
      "   Muskmelon       1.00      1.00      1.00        23\n",
      "      Orange       1.00      1.00      1.00        23\n",
      "      Papaya       0.87      0.95      0.91        21\n",
      "  PigeonPeas       0.95      0.95      0.95        22\n",
      " Pomegranate       1.00      1.00      1.00        23\n",
      "        Rice       0.88      0.88      0.88        25\n",
      "  Watermelon       1.00      1.00      1.00        17\n",
      "\n",
      "    accuracy                           0.96       440\n",
      "   macro avg       0.96      0.96      0.96       440\n",
      "weighted avg       0.96      0.96      0.96       440\n",
      "\n"
     ]
    }
   ],
   "source": [
    "#Printing Classification Report\n",
    "cr = classification_report(y_test, y_pred)\n",
    "print(cr)"
   ]
  },
  {
   "cell_type": "markdown",
   "id": "ebe82463",
   "metadata": {
    "papermill": {
     "duration": 0.040794,
     "end_time": "2021-08-28T07:17:46.068023",
     "exception": false,
     "start_time": "2021-08-28T07:17:46.027229",
     "status": "completed"
    },
    "tags": []
   },
   "source": [
    "### As we can see that for all 22 classes we have high precision and recall values which shows that our Predictive model works very well."
   ]
  },
  {
   "cell_type": "code",
   "execution_count": 23,
   "id": "3b6f3067",
   "metadata": {
    "execution": {
     "iopub.execute_input": "2021-08-28T07:17:46.163713Z",
     "iopub.status.busy": "2021-08-28T07:17:46.162783Z",
     "iopub.status.idle": "2021-08-28T07:17:46.167732Z",
     "shell.execute_reply": "2021-08-28T07:17:46.167034Z",
     "shell.execute_reply.started": "2021-08-28T07:13:45.989717Z"
    },
    "papermill": {
     "duration": 0.060013,
     "end_time": "2021-08-28T07:17:46.167876",
     "exception": false,
     "start_time": "2021-08-28T07:17:46.107863",
     "status": "completed"
    },
    "tags": []
   },
   "outputs": [
    {
     "data": {
      "text/html": [
       "<div>\n",
       "<style scoped>\n",
       "    .dataframe tbody tr th:only-of-type {\n",
       "        vertical-align: middle;\n",
       "    }\n",
       "\n",
       "    .dataframe tbody tr th {\n",
       "        vertical-align: top;\n",
       "    }\n",
       "\n",
       "    .dataframe thead th {\n",
       "        text-align: right;\n",
       "    }\n",
       "</style>\n",
       "<table border=\"1\" class=\"dataframe\">\n",
       "  <thead>\n",
       "    <tr style=\"text-align: right;\">\n",
       "      <th></th>\n",
       "      <th>Nitrogen</th>\n",
       "      <th>Phosphorus</th>\n",
       "      <th>Potassium</th>\n",
       "      <th>Temperature</th>\n",
       "      <th>Humidity</th>\n",
       "      <th>pH_Value</th>\n",
       "      <th>Rainfall</th>\n",
       "      <th>Crop</th>\n",
       "    </tr>\n",
       "  </thead>\n",
       "  <tbody>\n",
       "    <tr>\n",
       "      <th>0</th>\n",
       "      <td>90</td>\n",
       "      <td>42</td>\n",
       "      <td>43</td>\n",
       "      <td>20.879744</td>\n",
       "      <td>82.002744</td>\n",
       "      <td>6.502985</td>\n",
       "      <td>202.935536</td>\n",
       "      <td>Rice</td>\n",
       "    </tr>\n",
       "    <tr>\n",
       "      <th>1</th>\n",
       "      <td>85</td>\n",
       "      <td>58</td>\n",
       "      <td>41</td>\n",
       "      <td>21.770462</td>\n",
       "      <td>80.319644</td>\n",
       "      <td>7.038096</td>\n",
       "      <td>226.655537</td>\n",
       "      <td>Rice</td>\n",
       "    </tr>\n",
       "    <tr>\n",
       "      <th>2</th>\n",
       "      <td>60</td>\n",
       "      <td>55</td>\n",
       "      <td>44</td>\n",
       "      <td>23.004459</td>\n",
       "      <td>82.320763</td>\n",
       "      <td>7.840207</td>\n",
       "      <td>263.964248</td>\n",
       "      <td>Rice</td>\n",
       "    </tr>\n",
       "    <tr>\n",
       "      <th>3</th>\n",
       "      <td>74</td>\n",
       "      <td>35</td>\n",
       "      <td>40</td>\n",
       "      <td>26.491096</td>\n",
       "      <td>80.158363</td>\n",
       "      <td>6.980401</td>\n",
       "      <td>242.864034</td>\n",
       "      <td>Rice</td>\n",
       "    </tr>\n",
       "    <tr>\n",
       "      <th>4</th>\n",
       "      <td>78</td>\n",
       "      <td>42</td>\n",
       "      <td>42</td>\n",
       "      <td>20.130175</td>\n",
       "      <td>81.604873</td>\n",
       "      <td>7.628473</td>\n",
       "      <td>262.717340</td>\n",
       "      <td>Rice</td>\n",
       "    </tr>\n",
       "  </tbody>\n",
       "</table>\n",
       "</div>"
      ],
      "text/plain": [
       "   Nitrogen  Phosphorus  Potassium  Temperature   Humidity  pH_Value  \\\n",
       "0        90          42         43    20.879744  82.002744  6.502985   \n",
       "1        85          58         41    21.770462  80.319644  7.038096   \n",
       "2        60          55         44    23.004459  82.320763  7.840207   \n",
       "3        74          35         40    26.491096  80.158363  6.980401   \n",
       "4        78          42         42    20.130175  81.604873  7.628473   \n",
       "\n",
       "     Rainfall  Crop  \n",
       "0  202.935536  Rice  \n",
       "1  226.655537  Rice  \n",
       "2  263.964248  Rice  \n",
       "3  242.864034  Rice  \n",
       "4  262.717340  Rice  "
      ]
     },
     "execution_count": 23,
     "metadata": {},
     "output_type": "execute_result"
    }
   ],
   "source": [
    "# Our model is ready,now we use model to predict Crop name\n",
    "data.head()"
   ]
  },
  {
   "cell_type": "code",
   "execution_count": 24,
   "id": "3ab90128",
   "metadata": {
    "execution": {
     "iopub.execute_input": "2021-08-28T07:17:46.255817Z",
     "iopub.status.busy": "2021-08-28T07:17:46.254861Z",
     "iopub.status.idle": "2021-08-28T07:17:46.258221Z",
     "shell.execute_reply": "2021-08-28T07:17:46.258900Z",
     "shell.execute_reply.started": "2021-08-28T07:13:46.007978Z"
    },
    "papermill": {
     "duration": 0.050411,
     "end_time": "2021-08-28T07:17:46.259118",
     "exception": false,
     "start_time": "2021-08-28T07:17:46.208707",
     "status": "completed"
    },
    "tags": []
   },
   "outputs": [
    {
     "name": "stdout",
     "output_type": "stream",
     "text": [
      "The suggested Crop for Given Climatic condition is : ['Rice']\n"
     ]
    }
   ],
   "source": [
    "prediction = model.predict((np.array([[90,\n",
    "                                       40,\n",
    "                                       40,\n",
    "                                       20,\n",
    "                                       80,\n",
    "                                       7,\n",
    "                                       200]])))\n",
    "print(\"The suggested Crop for Given Climatic condition is :\", prediction)"
   ]
  },
  {
   "cell_type": "markdown",
   "id": "70834a32",
   "metadata": {
    "papermill": {
     "duration": 0.040574,
     "end_time": "2021-08-28T07:17:46.341457",
     "exception": false,
     "start_time": "2021-08-28T07:17:46.300883",
     "status": "completed"
    },
    "tags": []
   },
   "source": [
    "### Performance of our Predictive model is excellent, Now we are going to change our input values."
   ]
  },
  {
   "cell_type": "code",
   "execution_count": 25,
   "id": "80fe1f5a",
   "metadata": {
    "execution": {
     "iopub.execute_input": "2021-08-28T07:17:46.437417Z",
     "iopub.status.busy": "2021-08-28T07:17:46.436414Z",
     "iopub.status.idle": "2021-08-28T07:17:46.441213Z",
     "shell.execute_reply": "2021-08-28T07:17:46.440599Z",
     "shell.execute_reply.started": "2021-08-28T07:13:46.020029Z"
    },
    "papermill": {
     "duration": 0.059196,
     "end_time": "2021-08-28T07:17:46.441370",
     "exception": false,
     "start_time": "2021-08-28T07:17:46.382174",
     "status": "completed"
    },
    "tags": []
   },
   "outputs": [
    {
     "data": {
      "text/html": [
       "<div>\n",
       "<style scoped>\n",
       "    .dataframe tbody tr th:only-of-type {\n",
       "        vertical-align: middle;\n",
       "    }\n",
       "\n",
       "    .dataframe tbody tr th {\n",
       "        vertical-align: top;\n",
       "    }\n",
       "\n",
       "    .dataframe thead th {\n",
       "        text-align: right;\n",
       "    }\n",
       "</style>\n",
       "<table border=\"1\" class=\"dataframe\">\n",
       "  <thead>\n",
       "    <tr style=\"text-align: right;\">\n",
       "      <th></th>\n",
       "      <th>Nitrogen</th>\n",
       "      <th>Phosphorus</th>\n",
       "      <th>Potassium</th>\n",
       "      <th>Temperature</th>\n",
       "      <th>Humidity</th>\n",
       "      <th>pH_Value</th>\n",
       "      <th>Rainfall</th>\n",
       "      <th>Crop</th>\n",
       "    </tr>\n",
       "  </thead>\n",
       "  <tbody>\n",
       "    <tr>\n",
       "      <th>2195</th>\n",
       "      <td>107</td>\n",
       "      <td>34</td>\n",
       "      <td>32</td>\n",
       "      <td>26.774637</td>\n",
       "      <td>66.413269</td>\n",
       "      <td>6.780064</td>\n",
       "      <td>177.774507</td>\n",
       "      <td>Coffee</td>\n",
       "    </tr>\n",
       "    <tr>\n",
       "      <th>2196</th>\n",
       "      <td>99</td>\n",
       "      <td>15</td>\n",
       "      <td>27</td>\n",
       "      <td>27.417112</td>\n",
       "      <td>56.636362</td>\n",
       "      <td>6.086922</td>\n",
       "      <td>127.924610</td>\n",
       "      <td>Coffee</td>\n",
       "    </tr>\n",
       "    <tr>\n",
       "      <th>2197</th>\n",
       "      <td>118</td>\n",
       "      <td>33</td>\n",
       "      <td>30</td>\n",
       "      <td>24.131797</td>\n",
       "      <td>67.225123</td>\n",
       "      <td>6.362608</td>\n",
       "      <td>173.322839</td>\n",
       "      <td>Coffee</td>\n",
       "    </tr>\n",
       "    <tr>\n",
       "      <th>2198</th>\n",
       "      <td>117</td>\n",
       "      <td>32</td>\n",
       "      <td>34</td>\n",
       "      <td>26.272418</td>\n",
       "      <td>52.127394</td>\n",
       "      <td>6.758793</td>\n",
       "      <td>127.175293</td>\n",
       "      <td>Coffee</td>\n",
       "    </tr>\n",
       "    <tr>\n",
       "      <th>2199</th>\n",
       "      <td>104</td>\n",
       "      <td>18</td>\n",
       "      <td>30</td>\n",
       "      <td>23.603016</td>\n",
       "      <td>60.396475</td>\n",
       "      <td>6.779833</td>\n",
       "      <td>140.937041</td>\n",
       "      <td>Coffee</td>\n",
       "    </tr>\n",
       "  </tbody>\n",
       "</table>\n",
       "</div>"
      ],
      "text/plain": [
       "      Nitrogen  Phosphorus  Potassium  Temperature   Humidity  pH_Value  \\\n",
       "2195       107          34         32    26.774637  66.413269  6.780064   \n",
       "2196        99          15         27    27.417112  56.636362  6.086922   \n",
       "2197       118          33         30    24.131797  67.225123  6.362608   \n",
       "2198       117          32         34    26.272418  52.127394  6.758793   \n",
       "2199       104          18         30    23.603016  60.396475  6.779833   \n",
       "\n",
       "        Rainfall    Crop  \n",
       "2195  177.774507  Coffee  \n",
       "2196  127.924610  Coffee  \n",
       "2197  173.322839  Coffee  \n",
       "2198  127.175293  Coffee  \n",
       "2199  140.937041  Coffee  "
      ]
     },
     "execution_count": 25,
     "metadata": {},
     "output_type": "execute_result"
    }
   ],
   "source": [
    "data.tail()"
   ]
  },
  {
   "cell_type": "code",
   "execution_count": 26,
   "id": "1d6003e2",
   "metadata": {
    "execution": {
     "iopub.execute_input": "2021-08-28T07:17:46.532072Z",
     "iopub.status.busy": "2021-08-28T07:17:46.531427Z",
     "iopub.status.idle": "2021-08-28T07:17:46.534995Z",
     "shell.execute_reply": "2021-08-28T07:17:46.534436Z",
     "shell.execute_reply.started": "2021-08-28T07:13:46.046023Z"
    },
    "papermill": {
     "duration": 0.051504,
     "end_time": "2021-08-28T07:17:46.535135",
     "exception": false,
     "start_time": "2021-08-28T07:17:46.483631",
     "status": "completed"
    },
    "tags": []
   },
   "outputs": [
    {
     "name": "stdout",
     "output_type": "stream",
     "text": [
      "The suggested Crop for Given Climatic condition is : ['Coffee']\n"
     ]
    }
   ],
   "source": [
    "prediction = model.predict((np.array([[107,\n",
    "                                       34,\n",
    "                                       34,\n",
    "                                       26,\n",
    "                                       66,\n",
    "                                       6,\n",
    "                                       180]])))\n",
    "print(\"The suggested Crop for Given Climatic condition is :\", prediction)"
   ]
  },
  {
   "cell_type": "markdown",
   "id": "aefe2a37",
   "metadata": {
    "papermill": {
     "duration": 0.040997,
     "end_time": "2021-08-28T07:17:46.617874",
     "exception": false,
     "start_time": "2021-08-28T07:17:46.576877",
     "status": "completed"
    },
    "tags": []
   },
   "source": [
    "### Our Predictive Model works very well.\n",
    "### This Predictive model is usefull for Modern Farming."
   ]
  },
  {
   "cell_type": "markdown",
   "id": "61a2d061",
   "metadata": {},
   "source": [
    "# Now saving the model"
   ]
  },
  {
   "cell_type": "code",
   "execution_count": 27,
   "id": "93ed726e",
   "metadata": {},
   "outputs": [],
   "source": [
    "import pickle\n",
    "\n",
    "# Save the model as a pickle file\n",
    "with open('crop_recommendation_model.pkl', 'wb') as file:\n",
    "    pickle.dump(model, file)\n"
   ]
  }
 ],
 "metadata": {
  "kernelspec": {
   "display_name": "base",
   "language": "python",
   "name": "python3"
  },
  "language_info": {
   "codemirror_mode": {
    "name": "ipython",
    "version": 3
   },
   "file_extension": ".py",
   "mimetype": "text/x-python",
   "name": "python",
   "nbconvert_exporter": "python",
   "pygments_lexer": "ipython3",
   "version": "3.11.7"
  },
  "papermill": {
   "default_parameters": {},
   "duration": 41.877714,
   "end_time": "2021-08-28T07:17:48.512348",
   "environment_variables": {},
   "exception": null,
   "input_path": "__notebook__.ipynb",
   "output_path": "__notebook__.ipynb",
   "parameters": {},
   "start_time": "2021-08-28T07:17:06.634634",
   "version": "2.3.3"
  },
  "widgets": {
   "application/vnd.jupyter.widget-state+json": {
    "state": {
     "06d18eb88ac5476da83ec41b080c6f75": {
      "model_module": "@jupyter-widgets/controls",
      "model_module_version": "1.5.0",
      "model_name": "VBoxModel",
      "state": {
       "_dom_classes": [
        "widget-interact"
       ],
       "_model_module": "@jupyter-widgets/controls",
       "_model_module_version": "1.5.0",
       "_model_name": "VBoxModel",
       "_view_count": null,
       "_view_module": "@jupyter-widgets/controls",
       "_view_module_version": "1.5.0",
       "_view_name": "VBoxView",
       "box_style": "",
       "children": [
        "IPY_MODEL_3182e84e3db5449faf7932add15456d4",
        "IPY_MODEL_84c865ecb81e487e805e11b705270b92"
       ],
       "layout": "IPY_MODEL_851a29f46733421abc6eb44ecd4834bb"
      }
     },
     "214c99129d264a41932b2cb10f368d24": {
      "model_module": "@jupyter-widgets/base",
      "model_module_version": "1.2.0",
      "model_name": "LayoutModel",
      "state": {
       "_model_module": "@jupyter-widgets/base",
       "_model_module_version": "1.2.0",
       "_model_name": "LayoutModel",
       "_view_count": null,
       "_view_module": "@jupyter-widgets/base",
       "_view_module_version": "1.2.0",
       "_view_name": "LayoutView",
       "align_content": null,
       "align_items": null,
       "align_self": null,
       "border": null,
       "bottom": null,
       "display": null,
       "flex": null,
       "flex_flow": null,
       "grid_area": null,
       "grid_auto_columns": null,
       "grid_auto_flow": null,
       "grid_auto_rows": null,
       "grid_column": null,
       "grid_gap": null,
       "grid_row": null,
       "grid_template_areas": null,
       "grid_template_columns": null,
       "grid_template_rows": null,
       "height": null,
       "justify_content": null,
       "justify_items": null,
       "left": null,
       "margin": null,
       "max_height": null,
       "max_width": null,
       "min_height": null,
       "min_width": null,
       "object_fit": null,
       "object_position": null,
       "order": null,
       "overflow": null,
       "overflow_x": null,
       "overflow_y": null,
       "padding": null,
       "right": null,
       "top": null,
       "visibility": null,
       "width": null
      }
     },
     "2b48e67aa9de43f599a6777347c56834": {
      "model_module": "@jupyter-widgets/base",
      "model_module_version": "1.2.0",
      "model_name": "LayoutModel",
      "state": {
       "_model_module": "@jupyter-widgets/base",
       "_model_module_version": "1.2.0",
       "_model_name": "LayoutModel",
       "_view_count": null,
       "_view_module": "@jupyter-widgets/base",
       "_view_module_version": "1.2.0",
       "_view_name": "LayoutView",
       "align_content": null,
       "align_items": null,
       "align_self": null,
       "border": null,
       "bottom": null,
       "display": null,
       "flex": null,
       "flex_flow": null,
       "grid_area": null,
       "grid_auto_columns": null,
       "grid_auto_flow": null,
       "grid_auto_rows": null,
       "grid_column": null,
       "grid_gap": null,
       "grid_row": null,
       "grid_template_areas": null,
       "grid_template_columns": null,
       "grid_template_rows": null,
       "height": null,
       "justify_content": null,
       "justify_items": null,
       "left": null,
       "margin": null,
       "max_height": null,
       "max_width": null,
       "min_height": null,
       "min_width": null,
       "object_fit": null,
       "object_position": null,
       "order": null,
       "overflow": null,
       "overflow_x": null,
       "overflow_y": null,
       "padding": null,
       "right": null,
       "top": null,
       "visibility": null,
       "width": null
      }
     },
     "3182e84e3db5449faf7932add15456d4": {
      "model_module": "@jupyter-widgets/controls",
      "model_module_version": "1.5.0",
      "model_name": "DropdownModel",
      "state": {
       "_dom_classes": [],
       "_model_module": "@jupyter-widgets/controls",
       "_model_module_version": "1.5.0",
       "_model_name": "DropdownModel",
       "_options_labels": [
        "N",
        "P",
        "K",
        "temperature",
        "ph",
        "humidity",
        "rainfall"
       ],
       "_view_count": null,
       "_view_module": "@jupyter-widgets/controls",
       "_view_module_version": "1.5.0",
       "_view_name": "DropdownView",
       "description": "conditions",
       "description_tooltip": null,
       "disabled": false,
       "index": 0,
       "layout": "IPY_MODEL_2b48e67aa9de43f599a6777347c56834",
       "style": "IPY_MODEL_508f8a53783e4676846a0066b23f5aba"
      }
     },
     "3658d03b3f75428dbdf8534fd0a019b6": {
      "model_module": "@jupyter-widgets/controls",
      "model_module_version": "1.5.0",
      "model_name": "VBoxModel",
      "state": {
       "_dom_classes": [
        "widget-interact"
       ],
       "_model_module": "@jupyter-widgets/controls",
       "_model_module_version": "1.5.0",
       "_model_name": "VBoxModel",
       "_view_count": null,
       "_view_module": "@jupyter-widgets/controls",
       "_view_module_version": "1.5.0",
       "_view_name": "VBoxView",
       "box_style": "",
       "children": [
        "IPY_MODEL_89da8ea5e15547d394fdecaccb22824a",
        "IPY_MODEL_be406fe23ee74dcc8e0b960805b74f9c"
       ],
       "layout": "IPY_MODEL_ff2d587958bc49e693c904e80d36df64"
      }
     },
     "3b9b506fd15e4984b52a162932a60ff2": {
      "model_module": "@jupyter-widgets/output",
      "model_module_version": "1.0.0",
      "model_name": "OutputModel",
      "state": {
       "_dom_classes": [],
       "_model_module": "@jupyter-widgets/output",
       "_model_module_version": "1.0.0",
       "_model_name": "OutputModel",
       "_view_count": null,
       "_view_module": "@jupyter-widgets/output",
       "_view_module_version": "1.0.0",
       "_view_name": "OutputView",
       "layout": "IPY_MODEL_ec90385dbe4a48b0bfaa2181eefdb289",
       "msg_id": "",
       "outputs": [
        {
         "name": "stdout",
         "output_type": "stream",
         "text": "Average Value for N is  50.55\n----------------------------------------------------------------\nRice :  79.89\nBlack Grams :  40.02\nBanana :  100.23\nJute :  78.40\nCoconut :  21.98\nApple :  20.80\nPapaya :  49.88\nMuskmelon :  100.32\nGrapes :  23.18\nWatermelon :  99.42\nKedney Beans :  20.75\nMung Beans :  20.99\nOranges :  19.58\nChick Peas :  40.09\nLentils :  18.77\nCotton :  117.77\nMaize :  77.76\nMoth Beans :  21.44\nPigeon peas :  20.73\nMango :  20.07\nPomegrante :  nan\nCoffee :  101.20\n"
        }
       ]
      }
     },
     "508f8a53783e4676846a0066b23f5aba": {
      "model_module": "@jupyter-widgets/controls",
      "model_module_version": "1.5.0",
      "model_name": "DescriptionStyleModel",
      "state": {
       "_model_module": "@jupyter-widgets/controls",
       "_model_module_version": "1.5.0",
       "_model_name": "DescriptionStyleModel",
       "_view_count": null,
       "_view_module": "@jupyter-widgets/base",
       "_view_module_version": "1.2.0",
       "_view_name": "StyleView",
       "description_width": ""
      }
     },
     "53671f4e9df246b1a925ade7dc9b88b8": {
      "model_module": "@jupyter-widgets/base",
      "model_module_version": "1.2.0",
      "model_name": "LayoutModel",
      "state": {
       "_model_module": "@jupyter-widgets/base",
       "_model_module_version": "1.2.0",
       "_model_name": "LayoutModel",
       "_view_count": null,
       "_view_module": "@jupyter-widgets/base",
       "_view_module_version": "1.2.0",
       "_view_name": "LayoutView",
       "align_content": null,
       "align_items": null,
       "align_self": null,
       "border": null,
       "bottom": null,
       "display": null,
       "flex": null,
       "flex_flow": null,
       "grid_area": null,
       "grid_auto_columns": null,
       "grid_auto_flow": null,
       "grid_auto_rows": null,
       "grid_column": null,
       "grid_gap": null,
       "grid_row": null,
       "grid_template_areas": null,
       "grid_template_columns": null,
       "grid_template_rows": null,
       "height": null,
       "justify_content": null,
       "justify_items": null,
       "left": null,
       "margin": null,
       "max_height": null,
       "max_width": null,
       "min_height": null,
       "min_width": null,
       "object_fit": null,
       "object_position": null,
       "order": null,
       "overflow": null,
       "overflow_x": null,
       "overflow_y": null,
       "padding": null,
       "right": null,
       "top": null,
       "visibility": null,
       "width": null
      }
     },
     "5cea997d13eb4e269edffeb61f9d5637": {
      "model_module": "@jupyter-widgets/base",
      "model_module_version": "1.2.0",
      "model_name": "LayoutModel",
      "state": {
       "_model_module": "@jupyter-widgets/base",
       "_model_module_version": "1.2.0",
       "_model_name": "LayoutModel",
       "_view_count": null,
       "_view_module": "@jupyter-widgets/base",
       "_view_module_version": "1.2.0",
       "_view_name": "LayoutView",
       "align_content": null,
       "align_items": null,
       "align_self": null,
       "border": null,
       "bottom": null,
       "display": null,
       "flex": null,
       "flex_flow": null,
       "grid_area": null,
       "grid_auto_columns": null,
       "grid_auto_flow": null,
       "grid_auto_rows": null,
       "grid_column": null,
       "grid_gap": null,
       "grid_row": null,
       "grid_template_areas": null,
       "grid_template_columns": null,
       "grid_template_rows": null,
       "height": null,
       "justify_content": null,
       "justify_items": null,
       "left": null,
       "margin": null,
       "max_height": null,
       "max_width": null,
       "min_height": null,
       "min_width": null,
       "object_fit": null,
       "object_position": null,
       "order": null,
       "overflow": null,
       "overflow_x": null,
       "overflow_y": null,
       "padding": null,
       "right": null,
       "top": null,
       "visibility": null,
       "width": null
      }
     },
     "683a41aa56a542c3b3f81c4fe3f527c0": {
      "model_module": "@jupyter-widgets/controls",
      "model_module_version": "1.5.0",
      "model_name": "DropdownModel",
      "state": {
       "_dom_classes": [],
       "_model_module": "@jupyter-widgets/controls",
       "_model_module_version": "1.5.0",
       "_model_name": "DropdownModel",
       "_options_labels": [
        "N",
        "P",
        "K",
        "temperature",
        "ph",
        "humidity",
        "rainfall"
       ],
       "_view_count": null,
       "_view_module": "@jupyter-widgets/controls",
       "_view_module_version": "1.5.0",
       "_view_name": "DropdownView",
       "description": "conditions",
       "description_tooltip": null,
       "disabled": false,
       "index": 0,
       "layout": "IPY_MODEL_5cea997d13eb4e269edffeb61f9d5637",
       "style": "IPY_MODEL_be1f65b6efe0470daa58c679a8d8539d"
      }
     },
     "84c865ecb81e487e805e11b705270b92": {
      "model_module": "@jupyter-widgets/output",
      "model_module_version": "1.0.0",
      "model_name": "OutputModel",
      "state": {
       "_dom_classes": [],
       "_model_module": "@jupyter-widgets/output",
       "_model_module_version": "1.0.0",
       "_model_name": "OutputModel",
       "_view_count": null,
       "_view_module": "@jupyter-widgets/output",
       "_view_module_version": "1.0.0",
       "_view_name": "OutputView",
       "layout": "IPY_MODEL_dac720ef09c94b9c8735622878f167d2",
       "msg_id": "",
       "outputs": [
        {
         "name": "stdout",
         "output_type": "stream",
         "text": "Crops which require greater than average N \n\n['rice' 'maize' 'chickpea' 'blackgram' 'banana' 'watermelon' 'muskmelon'\n 'papaya' 'cotton' 'jute' 'coffee']\n-------------------------------------------------------\nCrops which require less than average N \n\n['chickpea' 'kidneybeans' 'pigeonpeas' 'mothbeans' 'mungbean' 'blackgram'\n 'lentil' 'pomegranate' 'mango' 'grapes' 'apple' 'orange' 'papaya'\n 'coconut']\n"
        }
       ]
      }
     },
     "851a29f46733421abc6eb44ecd4834bb": {
      "model_module": "@jupyter-widgets/base",
      "model_module_version": "1.2.0",
      "model_name": "LayoutModel",
      "state": {
       "_model_module": "@jupyter-widgets/base",
       "_model_module_version": "1.2.0",
       "_model_name": "LayoutModel",
       "_view_count": null,
       "_view_module": "@jupyter-widgets/base",
       "_view_module_version": "1.2.0",
       "_view_name": "LayoutView",
       "align_content": null,
       "align_items": null,
       "align_self": null,
       "border": null,
       "bottom": null,
       "display": null,
       "flex": null,
       "flex_flow": null,
       "grid_area": null,
       "grid_auto_columns": null,
       "grid_auto_flow": null,
       "grid_auto_rows": null,
       "grid_column": null,
       "grid_gap": null,
       "grid_row": null,
       "grid_template_areas": null,
       "grid_template_columns": null,
       "grid_template_rows": null,
       "height": null,
       "justify_content": null,
       "justify_items": null,
       "left": null,
       "margin": null,
       "max_height": null,
       "max_width": null,
       "min_height": null,
       "min_width": null,
       "object_fit": null,
       "object_position": null,
       "order": null,
       "overflow": null,
       "overflow_x": null,
       "overflow_y": null,
       "padding": null,
       "right": null,
       "top": null,
       "visibility": null,
       "width": null
      }
     },
     "89da8ea5e15547d394fdecaccb22824a": {
      "model_module": "@jupyter-widgets/controls",
      "model_module_version": "1.5.0",
      "model_name": "DropdownModel",
      "state": {
       "_dom_classes": [],
       "_model_module": "@jupyter-widgets/controls",
       "_model_module_version": "1.5.0",
       "_model_name": "DropdownModel",
       "_options_labels": [
        "pomegranate",
        "mango",
        "mungbean",
        "apple",
        "coconut",
        "mothbeans",
        "coffee",
        "muskmelon",
        "grapes",
        "orange",
        "kidneybeans",
        "pigeonpeas",
        "papaya",
        "watermelon",
        "cotton",
        "chickpea",
        "maize",
        "jute",
        "lentil",
        "blackgram",
        "rice",
        "banana"
       ],
       "_view_count": null,
       "_view_module": "@jupyter-widgets/controls",
       "_view_module_version": "1.5.0",
       "_view_name": "DropdownView",
       "description": "crops",
       "description_tooltip": null,
       "disabled": false,
       "index": 0,
       "layout": "IPY_MODEL_cf574efbb15b41799e5bd18ede65800f",
       "style": "IPY_MODEL_d0ee69c7044f466a9a27d5948fbf4c0d"
      }
     },
     "8c91b2ba889f4ecf8124e329ae96600c": {
      "model_module": "@jupyter-widgets/controls",
      "model_module_version": "1.5.0",
      "model_name": "VBoxModel",
      "state": {
       "_dom_classes": [
        "widget-interact"
       ],
       "_model_module": "@jupyter-widgets/controls",
       "_model_module_version": "1.5.0",
       "_model_name": "VBoxModel",
       "_view_count": null,
       "_view_module": "@jupyter-widgets/controls",
       "_view_module_version": "1.5.0",
       "_view_name": "VBoxView",
       "box_style": "",
       "children": [
        "IPY_MODEL_683a41aa56a542c3b3f81c4fe3f527c0",
        "IPY_MODEL_3b9b506fd15e4984b52a162932a60ff2"
       ],
       "layout": "IPY_MODEL_53671f4e9df246b1a925ade7dc9b88b8"
      }
     },
     "be1f65b6efe0470daa58c679a8d8539d": {
      "model_module": "@jupyter-widgets/controls",
      "model_module_version": "1.5.0",
      "model_name": "DescriptionStyleModel",
      "state": {
       "_model_module": "@jupyter-widgets/controls",
       "_model_module_version": "1.5.0",
       "_model_name": "DescriptionStyleModel",
       "_view_count": null,
       "_view_module": "@jupyter-widgets/base",
       "_view_module_version": "1.2.0",
       "_view_name": "StyleView",
       "description_width": ""
      }
     },
     "be406fe23ee74dcc8e0b960805b74f9c": {
      "model_module": "@jupyter-widgets/output",
      "model_module_version": "1.0.0",
      "model_name": "OutputModel",
      "state": {
       "_dom_classes": [],
       "_model_module": "@jupyter-widgets/output",
       "_model_module_version": "1.0.0",
       "_model_name": "OutputModel",
       "_view_count": null,
       "_view_module": "@jupyter-widgets/output",
       "_view_module_version": "1.0.0",
       "_view_name": "OutputView",
       "layout": "IPY_MODEL_214c99129d264a41932b2cb10f368d24",
       "msg_id": "",
       "outputs": [
        {
         "name": "stdout",
         "output_type": "stream",
         "text": "-------------------------------------------------\nStatistics for Nitrogen :\nMinimum Nitrogen Required : 0\nAverage Nitrogen Required : 18.87\nMaximum Nitrogen Required : 40\n-------------------------------------------------\nStatistics for Phosphorous :\nMinimum Phosphorous Required : 5\nAverage Phosphorous Required : 18.75\nMaximum Phosphorous Required : 30\n-------------------------------------------------\nStatistics for Potassium :\nMinimum Potassium Required : 35\nAverage Potassium Required : 40.21\nMaximum Potassium Required : 45\n-------------------------------------------------\nStatistics for Temperature :\nMinimum Temperature Required :  18.07\nAverage Temperature Required :  21.84\nMaximum Temperature Required :  24.96\n-------------------------------------------------\nStatistics for Humidity :\nMinimum Humidity Required :  85.13\nAverage Humidity Required :  90.13\nMaximum Humidity Required :  95.00\n-------------------------------------------------\nStatistics for PH :\nMinimum PH Required :  5.56\nAverage PH Required :  6.43\nMaximum PH Required :  7.20\n-------------------------------------------------\nStatistics for Rainfall :\nMinimum Rainfall Required :  102.52\nAverage Rainfall Required :  107.53\nMaximum Rainfall Required :  112.48\n-------------------------------------------------\n"
        }
       ]
      }
     },
     "cf574efbb15b41799e5bd18ede65800f": {
      "model_module": "@jupyter-widgets/base",
      "model_module_version": "1.2.0",
      "model_name": "LayoutModel",
      "state": {
       "_model_module": "@jupyter-widgets/base",
       "_model_module_version": "1.2.0",
       "_model_name": "LayoutModel",
       "_view_count": null,
       "_view_module": "@jupyter-widgets/base",
       "_view_module_version": "1.2.0",
       "_view_name": "LayoutView",
       "align_content": null,
       "align_items": null,
       "align_self": null,
       "border": null,
       "bottom": null,
       "display": null,
       "flex": null,
       "flex_flow": null,
       "grid_area": null,
       "grid_auto_columns": null,
       "grid_auto_flow": null,
       "grid_auto_rows": null,
       "grid_column": null,
       "grid_gap": null,
       "grid_row": null,
       "grid_template_areas": null,
       "grid_template_columns": null,
       "grid_template_rows": null,
       "height": null,
       "justify_content": null,
       "justify_items": null,
       "left": null,
       "margin": null,
       "max_height": null,
       "max_width": null,
       "min_height": null,
       "min_width": null,
       "object_fit": null,
       "object_position": null,
       "order": null,
       "overflow": null,
       "overflow_x": null,
       "overflow_y": null,
       "padding": null,
       "right": null,
       "top": null,
       "visibility": null,
       "width": null
      }
     },
     "d0ee69c7044f466a9a27d5948fbf4c0d": {
      "model_module": "@jupyter-widgets/controls",
      "model_module_version": "1.5.0",
      "model_name": "DescriptionStyleModel",
      "state": {
       "_model_module": "@jupyter-widgets/controls",
       "_model_module_version": "1.5.0",
       "_model_name": "DescriptionStyleModel",
       "_view_count": null,
       "_view_module": "@jupyter-widgets/base",
       "_view_module_version": "1.2.0",
       "_view_name": "StyleView",
       "description_width": ""
      }
     },
     "dac720ef09c94b9c8735622878f167d2": {
      "model_module": "@jupyter-widgets/base",
      "model_module_version": "1.2.0",
      "model_name": "LayoutModel",
      "state": {
       "_model_module": "@jupyter-widgets/base",
       "_model_module_version": "1.2.0",
       "_model_name": "LayoutModel",
       "_view_count": null,
       "_view_module": "@jupyter-widgets/base",
       "_view_module_version": "1.2.0",
       "_view_name": "LayoutView",
       "align_content": null,
       "align_items": null,
       "align_self": null,
       "border": null,
       "bottom": null,
       "display": null,
       "flex": null,
       "flex_flow": null,
       "grid_area": null,
       "grid_auto_columns": null,
       "grid_auto_flow": null,
       "grid_auto_rows": null,
       "grid_column": null,
       "grid_gap": null,
       "grid_row": null,
       "grid_template_areas": null,
       "grid_template_columns": null,
       "grid_template_rows": null,
       "height": null,
       "justify_content": null,
       "justify_items": null,
       "left": null,
       "margin": null,
       "max_height": null,
       "max_width": null,
       "min_height": null,
       "min_width": null,
       "object_fit": null,
       "object_position": null,
       "order": null,
       "overflow": null,
       "overflow_x": null,
       "overflow_y": null,
       "padding": null,
       "right": null,
       "top": null,
       "visibility": null,
       "width": null
      }
     },
     "ec90385dbe4a48b0bfaa2181eefdb289": {
      "model_module": "@jupyter-widgets/base",
      "model_module_version": "1.2.0",
      "model_name": "LayoutModel",
      "state": {
       "_model_module": "@jupyter-widgets/base",
       "_model_module_version": "1.2.0",
       "_model_name": "LayoutModel",
       "_view_count": null,
       "_view_module": "@jupyter-widgets/base",
       "_view_module_version": "1.2.0",
       "_view_name": "LayoutView",
       "align_content": null,
       "align_items": null,
       "align_self": null,
       "border": null,
       "bottom": null,
       "display": null,
       "flex": null,
       "flex_flow": null,
       "grid_area": null,
       "grid_auto_columns": null,
       "grid_auto_flow": null,
       "grid_auto_rows": null,
       "grid_column": null,
       "grid_gap": null,
       "grid_row": null,
       "grid_template_areas": null,
       "grid_template_columns": null,
       "grid_template_rows": null,
       "height": null,
       "justify_content": null,
       "justify_items": null,
       "left": null,
       "margin": null,
       "max_height": null,
       "max_width": null,
       "min_height": null,
       "min_width": null,
       "object_fit": null,
       "object_position": null,
       "order": null,
       "overflow": null,
       "overflow_x": null,
       "overflow_y": null,
       "padding": null,
       "right": null,
       "top": null,
       "visibility": null,
       "width": null
      }
     },
     "ff2d587958bc49e693c904e80d36df64": {
      "model_module": "@jupyter-widgets/base",
      "model_module_version": "1.2.0",
      "model_name": "LayoutModel",
      "state": {
       "_model_module": "@jupyter-widgets/base",
       "_model_module_version": "1.2.0",
       "_model_name": "LayoutModel",
       "_view_count": null,
       "_view_module": "@jupyter-widgets/base",
       "_view_module_version": "1.2.0",
       "_view_name": "LayoutView",
       "align_content": null,
       "align_items": null,
       "align_self": null,
       "border": null,
       "bottom": null,
       "display": null,
       "flex": null,
       "flex_flow": null,
       "grid_area": null,
       "grid_auto_columns": null,
       "grid_auto_flow": null,
       "grid_auto_rows": null,
       "grid_column": null,
       "grid_gap": null,
       "grid_row": null,
       "grid_template_areas": null,
       "grid_template_columns": null,
       "grid_template_rows": null,
       "height": null,
       "justify_content": null,
       "justify_items": null,
       "left": null,
       "margin": null,
       "max_height": null,
       "max_width": null,
       "min_height": null,
       "min_width": null,
       "object_fit": null,
       "object_position": null,
       "order": null,
       "overflow": null,
       "overflow_x": null,
       "overflow_y": null,
       "padding": null,
       "right": null,
       "top": null,
       "visibility": null,
       "width": null
      }
     }
    },
    "version_major": 2,
    "version_minor": 0
   }
  }
 },
 "nbformat": 4,
 "nbformat_minor": 5
}
